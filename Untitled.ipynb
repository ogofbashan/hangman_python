{
 "cells": [
  {
   "cell_type": "code",
   "execution_count": null,
   "metadata": {},
   "outputs": [
    {
     "name": "stdout",
     "output_type": "stream",
     "text": [
      "\n",
      " Possible Letters: \n",
      "h i j k l m n o p q r s t u v w x y z\n",
      "\n",
      " Guessed Letters: \n",
      "a b c d e f g\n",
      "_ g _\n",
      "       _______\n",
      "         |/      |\n",
      "         |      (_)\n",
      "         |      \\|/\n",
      "         |       |\n",
      "         |      / \\\n",
      "         |\n",
      "        _|___\n",
      "        \n"
     ]
    }
   ],
   "source": [
    "%run hang_atom.py"
   ]
  }
 ],
 "metadata": {
  "kernelspec": {
   "display_name": "Python 3",
   "language": "python",
   "name": "python3"
  },
  "language_info": {
   "codemirror_mode": {
    "name": "ipython",
    "version": 3
   },
   "file_extension": ".py",
   "mimetype": "text/x-python",
   "name": "python",
   "nbconvert_exporter": "python",
   "pygments_lexer": "ipython3",
   "version": "3.7.3"
  }
 },
 "nbformat": 4,
 "nbformat_minor": 2
}
