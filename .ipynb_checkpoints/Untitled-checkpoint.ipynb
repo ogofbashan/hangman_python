{
 "cells": [
  {
   "cell_type": "code",
   "execution_count": null,
   "metadata": {
    "scrolled": false
   },
   "outputs": [
    {
     "name": "stdout",
     "output_type": "stream",
     "text": [
      "\n",
      " Possible Letters: \n",
      "c d f g j k l n p q w x y z\n",
      "\n",
      " Guessed Letters: \n",
      "a e u i o b t s r m v h\n",
      "_ e r o _ a _ t _ _\n",
      "You Lost!\n",
      "Aerodactyl was the word\n",
      "       _______\n",
      "         |/      |\n",
      "         |      (xx)\n",
      "         |      \\|/\n",
      "         |       |\n",
      "         |      / \\\n",
      "         |\n",
      "        _|___\n",
      "        \n"
     ]
    }
   ],
   "source": [
    "%run hang_atom.py"
   ]
  }
 ],
 "metadata": {
  "kernelspec": {
   "display_name": "Python 3",
   "language": "python",
   "name": "python3"
  },
  "language_info": {
   "codemirror_mode": {
    "name": "ipython",
    "version": 3
   },
   "file_extension": ".py",
   "mimetype": "text/x-python",
   "name": "python",
   "nbconvert_exporter": "python",
   "pygments_lexer": "ipython3",
   "version": "3.7.3"
  }
 },
 "nbformat": 4,
 "nbformat_minor": 2
}
